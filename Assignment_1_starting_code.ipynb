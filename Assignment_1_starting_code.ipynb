{
 "cells": [
  {
   "cell_type": "markdown",
   "metadata": {},
   "source": [
    "# This is the starting code of BDA assignment 1 \n",
    "### All the hints are not mandatory instructions, you can complete the assignment in your own way"
   ]
  },
  {
   "cell_type": "markdown",
   "metadata": {},
   "source": [
    "<p>________________________________________________________________________________________________________________________</p>"
   ]
  },
  {
   "cell_type": "markdown",
   "metadata": {},
   "source": [
    "## Question 1 - Make the response of the second question in homework_0 more general\n",
    "### This time, you can use ANY package !\n",
    "<pre>\n",
    "Use your experience of homework_0 to make a class with methods that is more flexible in answering similar questions.\n",
    "The implementions we want to make are follows.</pre>\n",
    "<ul>\n",
    "    <li><pre>Top N movies in the aspect of rating in the period of yeari to yearj</pre></li>\n",
    "    <li><pre>Top N to top M actors of their accumulated or average revenue</pre></li>\n",
    "    <li><pre>The average rating of a specific actor's(e.g. Emma Watson) movies</pre></li>\n",
    "    <li><pre>Top N to top M directors in the number of actors they collaborated</pre></li>\n",
    "    <li><pre>Top N to top M acotrs in the number of genres they had played</pre></li>  \n",
    "    <li><pre>Top N to top M actors of their maximum gap of years</pre></li>\n",
    "    <li><pre>Find all actors who collaborate with a specific actor(e.g. Johnny Deep) in direct and indirect ways</pre></li>  \n",
    "</ul>\n",
    "\n",
    "<pre>\n",
    "\n",
    "the result should be like...(partial)</pre>\n",
    "\n",
    "![Imgur](https://i.imgur.com/dEivoaw.png)"
   ]
  },
  {
   "cell_type": "markdown",
   "metadata": {},
   "source": [
    "### Hint 1 : Import all the packages you need\n",
    "<blockquote>\n",
    "    <p><font color=\"green\"><b>import</b></font> pandas <font color=\"green\"><b>as</b></font> pd</p>\n",
    "</blockquote>"
   ]
  },
  {
   "cell_type": "markdown",
   "metadata": {},
   "source": [
    "### Hint 2 : Read the dataset\n",
    "<blockquote>\n",
    "    <p>Use pandas to read the csv file.</p>\n",
    "    <p>Then, you can inspect the first few row using : df.head<font color=\"green\"><b>()</b></font></p>\n",
    "</blockquote>"
   ]
  },
  {
   "cell_type": "markdown",
   "metadata": {},
   "source": [
    "### Hint 3 : Make a class to complete implementations below.\n",
    "<blockquote>\n",
    "    <p>You can name your class, functions, methods... whatever you like.</p>\n",
    "</blockquote>\n",
    "<pre>\n",
    "<font color=\"green\"><b>class</b></font> <font color=\"blue\">This_is_the_example_class</font>:\n",
    "    <font color=\"green\"><b>def</b></font> <font color=\"blue\">__init__</font>(self, data):\n",
    "        self.df <font color=\"purple\">=</font> data\n",
    "        self.OOO\n",
    "        self.XXX\n",
    "    <font color=\"green\"><b>def</b></font> <font color=\"blue\">example_method</font>(self):\n",
    "        ...do something...\n",
    "</pre>"
   ]
  },
  {
   "cell_type": "markdown",
   "metadata": {},
   "source": [
    "### Hint 4 : Initialize the class, access its attributes, and use its methods\n",
    "<blockquote>\n",
    "    <p>You can initialize the class with the dataframe.</p>\n",
    "</blockquote>\n",
    "<pre>\n",
    "example <font color=\"purple\"><b>=</b></font> This_is_the_example_class(df)\n",
    "\n",
    "example.df.head()\n",
    "![Imgur](https://i.imgur.com/a0UyjXV.png)\n",
    "\n",
    "example.example_method()\n",
    "</pre>"
   ]
  },
  {
   "cell_type": "markdown",
   "metadata": {},
   "source": [
    "## 　"
   ]
  },
  {
   "cell_type": "markdown",
   "metadata": {},
   "source": [
    "## Question 2\n",
    "<pre>This is the data of all 30 ubike stations in Daan District(大安區), \n",
    "recorded by hours, during the period between  6/7/2015 to 10/8/2015.\n",
    "\n",
    "The descriptions of some features are as follow.\n",
    "(Some of the features are strightforward and easy to understand, so their explanations will be skipped)\n",
    "</pre>\n",
    "<ul>\n",
    "    <li><pre>time     : The time this data was recorded, including year/date/hour/minute</pre></li>\n",
    "    <li><pre>id       : The id of each station. Since there are 30 stations, there will be 30 distinctive ids.</pre></li>\n",
    "    <li><pre>station  : The namd of a specific station</pre></li>\n",
    "    <li><pre>location : The district where the station belones to. (All of them are in Daan District) </pre></li>\n",
    "    <li><pre>status   : status =1 means the station is functional. =0 means it's shutdown a that time.</pre></li>\n",
    "    <li><pre>lot      : The number of total parking slot of the station.</pre></li>\n",
    "    <li><pre>bike     : The number of bikes available at the station at that time.</pre></li>\n",
    "    <li><pre>empty    : The number of empty parking slot of the station at that time.</pre></li>\n",
    "    <li><pre>temp     : The temperature at that station at that time. (in kelvin)</pre></li>\n",
    "    <li><pre>pressure : The air pressure at that station at that time.</pre></li>\n",
    "    <li><pre>wind     : The wind speed at that station at that time. (meters/second)</pre></li>\n",
    "</ul>\n",
    "\n",
    "<pre>\n",
    "\n",
    "Don't worry, you don't have to deal with all of the features in this problem. Our goal is to observe some \n",
    "changes of a specific station, which are listed below.\n",
    "</pre>\n",
    "<ol>\n",
    "    <li><pre>the number of average bikes available</pre></li>\n",
    "    <li><pre>the number of average capacity (capacity = # of empty + # of bike)</pre></li>\n",
    "    <li><pre>the rate of bikes available of a specific station to the capacity of bikes of all stations</pre></li>\n",
    "</ol>\n",
    "<pre>\n",
    "We will collect and calculate all three features above of a given station by each hour segment of a day, \n",
    "then plot them together in a figure. (Your plots do not need to be exactly the same as the example.)\n",
    "</pre>\n",
    "\n",
    "![Imgur](https://i.imgur.com/eB1mGdD.png)\n",
    "\n",
    "<pre>\n",
    "\n",
    "Furthermore, please use the \"@interact_manual\" interactive control to enable us to switch from one station to another,\n",
    "and our program will calculate and plot the data instantly. \n",
    "The output should look like this:\n",
    "</pre>\n",
    "\n",
    "![Url](https://i.imgur.com/gMbscmQ.gif)\n",
    "\n",
    "<pre>\n",
    "<b>Let's get this coding started !</b>\n",
    "</pre>"
   ]
  },
  {
   "cell_type": "markdown",
   "metadata": {},
   "source": [
    "### Hint 1 : Import the library you need and the data\n",
    "<blockquote><p>Import pandas and read the dataset.</p></blockquote>\n",
    "<pre>This dataset cannot be readed normaly without ' encoding = \"ISO-8859-1\" ', I'll help saving your time on this part.\n",
    "<font color=\"green\"><b>import</b></font> pandas <font color=\"green\"><b>as</b></font> pd\n",
    "df <font color=\"purple\"><b>=</b></font> pd.read_csv(\"ubike.csv\", encoding <font color=\"purple\"><b>=</b></font> \"ISO-8859-1\")\n",
    "</pre>"
   ]
  },
  {
   "cell_type": "markdown",
   "metadata": {},
   "source": [
    "<blockquote><p>Again, you could use  <b>df.head()</b>  to show the first few row of the dataset.</p></blockquote>"
   ]
  },
  {
   "cell_type": "markdown",
   "metadata": {},
   "source": [
    "### Hint 2 : Stuffs you need to do before plotting\n",
    "<blockquote>deal with the dataset</blockquote>\n",
    "<pre>How to find out the time slots ? ( ask google )\n",
    "drop the features that are irrelevant to the question, then add some new feature if necessary\n",
    "</pre>"
   ]
  },
  {
   "cell_type": "markdown",
   "metadata": {},
   "source": [
    "### Hint 3 : Make a manual interact function block\n",
    "<blockquote>Create your main function, and allow user to change the parameters manually.</blockquote>\n",
    "<pre><font color=\"purple\">@interact_manual</font>\n",
    "<font color=\"green\"><b>def</b></font> <font color=\"blue\">compare_two_stations</font>:\n",
    "    operation_1\n",
    "    operation_2\n",
    "    ...\n",
    "</pre>"
   ]
  },
  {
   "cell_type": "markdown",
   "metadata": {},
   "source": [
    "## 　"
   ]
  },
  {
   "cell_type": "markdown",
   "metadata": {},
   "source": [
    "## Question 3\n",
    "<pre>\n",
    "From the range (-1000, 1000) randomly generate 1000 dots on the X-Y plane. ( with coordinate (x,y), seed=777 )\n",
    "And take (0, 0) as center, drop all the dots that is on the outside of a given radius. (In this question, r=600)\n",
    "Then use Numpy functions to complete a scatter plot that show the links of each node and its K nearest neighbors.\n",
    "Note that the width and height of your grid should be equal.\n",
    "the result should be like... \n",
    "</pre>\n",
    "![Imgur](https://i.imgur.com/Lekvj3v.png)"
   ]
  },
  {
   "cell_type": "markdown",
   "metadata": {},
   "source": [
    "### Hint 1 : Import the library you need and the data\n",
    "<blockquote><p>Import all the libraries.</p></blockquote>\n",
    "<pre><font color=\"green\"><b>import</b></font> numpy <font color=\"green\"><b>as</b></font> np\n",
    "<font color=\"green\"><b>import</b></font> matplotlib.pyplot <font color=\"green\"><b>as</b></font> plt\n",
    "<font color=\"green\"><b>import</b></font> random\n",
    "<font color=\"green\"><b>import</b></font> math\n",
    "</pre>"
   ]
  },
  {
   "cell_type": "markdown",
   "metadata": {},
   "source": [
    "### Hint 2 : Generate the X-Y pairs\n",
    "<blockquote><p>Use methods in random and np</p></blockquote>\n",
    "<pre>Set the seed = 777, and randomly generates 1000 pairs of (x, y). The range of all x and y is (-1000, 1000).\n",
    "Oh BTW, you might need to reshape and stack the data for further operations. \n",
    "</pre>"
   ]
  },
  {
   "cell_type": "markdown",
   "metadata": {},
   "source": [
    "### Hint 3 : Eliminate all the dots that are outside of the radius\n",
    "<blockquote><p>Write a process or make a function to check the distance from a dot to the center. The center is (0, 0). \n",
    "</p></blockquote>\n",
    "<pre>If the distance is less than 600, keep it; otherwise, drop it. \n",
    "</pre>"
   ]
  },
  {
   "cell_type": "markdown",
   "metadata": {},
   "source": [
    "### Hint 4 : Calculate the distances between a dot to all the other dots\n",
    "<blockquote><p>You can either write a function or use the broadcasting of numpy array to accomplish this step.</p></blockquote>\n",
    "<pre>To find the K nearest neighbors of all dots, the distances between all dots and their neighbors.\n",
    "That is, the number of the distances you calculate should be the square of the number of dots in the radius(600).\n",
    "</pre>"
   ]
  },
  {
   "cell_type": "markdown",
   "metadata": {},
   "source": [
    "### Hint 5 : Find K Nearest Neighbors\n",
    "<blockquote><p>Use the method in numpy that can sort values in a list to find out the K nearest neighbors.</p></blockquote>"
   ]
  },
  {
   "cell_type": "markdown",
   "metadata": {},
   "source": [
    "### Hint 6 : Plot the outcome\n",
    "<blockquote><p>This is also a tricky part, you may need some loops...</p></blockquote>"
   ]
  },
  {
   "cell_type": "markdown",
   "metadata": {},
   "source": [
    "### Dread it, run from it, destiny arrives all the same..."
   ]
  }
 ],
 "metadata": {
  "kernelspec": {
   "display_name": "Python 3",
   "language": "python",
   "name": "python3"
  },
  "language_info": {
   "codemirror_mode": {
    "name": "ipython",
    "version": 3
   },
   "file_extension": ".py",
   "mimetype": "text/x-python",
   "name": "python",
   "nbconvert_exporter": "python",
   "pygments_lexer": "ipython3",
   "version": "3.8.3"
  }
 },
 "nbformat": 4,
 "nbformat_minor": 2
}
